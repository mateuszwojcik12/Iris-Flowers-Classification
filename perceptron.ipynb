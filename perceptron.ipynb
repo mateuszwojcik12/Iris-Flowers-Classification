{
 "cells": [
  {
   "cell_type": "code",
   "execution_count": 1,
   "metadata": {
    "collapsed": true,
    "pycharm": {
     "is_executing": false
    }
   },
   "outputs": [],
   "source": [
    "import pandas as pd\n",
    "import numpy as np\n",
    "\n",
    "\n",
    "class Perceptron(object):\n",
    "    \n",
    "    def __init__(self, eras=50, threshold=0, eta=0.01):\n",
    "        self.eras = eras\n",
    "        self.threshold = threshold\n",
    "        self.eta = eta\n",
    "    \n",
    "    def fit(self, X, Y):\n",
    "        era=0\n",
    "        weights = self.weights(len(X[0]))\n",
    "        errors = np.zeros(len(Y))\n",
    "        estimates = np.zeros(len(Y))\n",
    "        J = []\n",
    "        while era < self.eras:\n",
    "            row_number = 0\n",
    "            for row in X:\n",
    "                f = np.dot(weights, row)\n",
    "                y_estimate = self.predicate(f)\n",
    "                if (y_estimate != Y[row_number]):\n",
    "                    weights = self.weights_update(weights, y_estimate, Y[row_number], row)\n",
    "                estimates[row_number] = y_estimate\n",
    "                row_number += 1\n",
    "            for index in range(0, len(errors)):\n",
    "                errors[index] = (Y[index] - estimates[index]) ** 2\n",
    "            J.append(0.5 * np.sum(errors))\n",
    "            era += 1\n",
    "        return weights, J\n",
    "    \n",
    "    def weights(self, size):\n",
    "        return np.random.uniform(low=0, high=1, size=(size,))\n",
    "    \n",
    "    def predicate(self, f):\n",
    "        return 1 if f>self.threshold else 0\n",
    "    \n",
    "    def weights_update(self, weights, y_estimate, y_actual, X_row):\n",
    "        for index in range(0, len(X_row)):\n",
    "            weights[index] = weights[index] + self.eta*(y_actual-y_estimate)*X_row[index]\n",
    "        return weights\n",
    "    "
   ]
  },
  {
   "cell_type": "code",
   "execution_count": 2,
   "outputs": [
    {
     "data": {
      "text/plain": "       0    1    2    3               4\n145  6.7  3.0  5.2  2.3  Iris-virginica\n146  6.3  2.5  5.0  1.9  Iris-virginica\n147  6.5  3.0  5.2  2.0  Iris-virginica\n148  6.2  3.4  5.4  2.3  Iris-virginica\n149  5.9  3.0  5.1  1.8  Iris-virginica",
      "text/html": "<div>\n<style scoped>\n    .dataframe tbody tr th:only-of-type {\n        vertical-align: middle;\n    }\n\n    .dataframe tbody tr th {\n        vertical-align: top;\n    }\n\n    .dataframe thead th {\n        text-align: right;\n    }\n</style>\n<table border=\"1\" class=\"dataframe\">\n  <thead>\n    <tr style=\"text-align: right;\">\n      <th></th>\n      <th>0</th>\n      <th>1</th>\n      <th>2</th>\n      <th>3</th>\n      <th>4</th>\n    </tr>\n  </thead>\n  <tbody>\n    <tr>\n      <th>145</th>\n      <td>6.7</td>\n      <td>3.0</td>\n      <td>5.2</td>\n      <td>2.3</td>\n      <td>Iris-virginica</td>\n    </tr>\n    <tr>\n      <th>146</th>\n      <td>6.3</td>\n      <td>2.5</td>\n      <td>5.0</td>\n      <td>1.9</td>\n      <td>Iris-virginica</td>\n    </tr>\n    <tr>\n      <th>147</th>\n      <td>6.5</td>\n      <td>3.0</td>\n      <td>5.2</td>\n      <td>2.0</td>\n      <td>Iris-virginica</td>\n    </tr>\n    <tr>\n      <th>148</th>\n      <td>6.2</td>\n      <td>3.4</td>\n      <td>5.4</td>\n      <td>2.3</td>\n      <td>Iris-virginica</td>\n    </tr>\n    <tr>\n      <th>149</th>\n      <td>5.9</td>\n      <td>3.0</td>\n      <td>5.1</td>\n      <td>1.8</td>\n      <td>Iris-virginica</td>\n    </tr>\n  </tbody>\n</table>\n</div>"
     },
     "metadata": {},
     "output_type": "execute_result",
     "execution_count": 2
    }
   ],
   "source": [
    "df = pd.read_csv('iris.data', header=None)\n",
    "df.tail()"
   ],
   "metadata": {
    "collapsed": false,
    "pycharm": {
     "name": "#%%\n",
     "is_executing": false
    }
   }
  },
  {
   "cell_type": "code",
   "execution_count": 4,
   "outputs": [
    {
     "data": {
      "text/plain": "<Figure size 432x288 with 1 Axes>",
      "image/png": "[encoded data removed]"
     },
     "metadata": {
      "needs_background": "light"
     },
     "output_type": "display_data"
    }
   ],
   "source": [
    "import matplotlib.pyplot as plt\n",
    "\n",
    "# Odmiana setosa i versicolor\n",
    "Y = df.iloc[0:100, 4].values\n",
    "Y = np.where(Y == 'Iris-setosa', 0, 1)\n",
    "# długość działki i płatk\n",
    "X = df.iloc[0:100, [0, 2]].values\n",
    "\n",
    "plt.scatter(X[:50, 0], X[:50, 1],\n",
    "            color='red', marker='o', label='Setora')\n",
    "plt.scatter(X[50:100, 0], X[50:100, 1],\n",
    "            color='blue', marker='x', label='Versicolor')\n",
    "plt.xlabel('Długość działki [cm]')\n",
    "plt.ylabel('Długość płatka [cm]')\n",
    "plt.legend(loc='upper left')\n",
    "plt.show()\n",
    "\n"
   ],
   "metadata": {
    "collapsed": false,
    "pycharm": {
     "name": "#%%\n",
     "is_executing": false
    }
   }
  },
  {
   "cell_type": "code",
   "execution_count": 5,
   "outputs": [
    {
     "data": {
      "text/plain": "<Figure size 432x288 with 1 Axes>",
      "image/png": "[encoded data removed]"
     },
     "metadata": {
      "needs_background": "light"
     },
     "output_type": "display_data"
    }
   ],
   "source": [
    "perceptron = Perceptron(eta=0.1, eras=10)\n",
    "weights, errors = perceptron.fit(X, Y)\n",
    "plt.plot(range(1, len(errors) + 1), errors, marker='o')\n",
    "plt.xlabel('Epoki')\n",
    "plt.ylabel('Liczba aktualizacji')\n",
    "plt.show()"
   ],
   "metadata": {
    "collapsed": false,
    "pycharm": {
     "name": "#%%\n",
     "is_executing": false
    }
   }
  },
  {
   "cell_type": "code",
   "execution_count": null,
   "outputs": [],
   "source": [
    "\n"
   ],
   "metadata": {
    "collapsed": false,
    "pycharm": {
     "name": "#%%\n"
    }
   }
  }
 ],
 "metadata": {
  "kernelspec": {
   "display_name": "Python 3",
   "language": "python",
   "name": "python3"
  },
  "language_info": {
   "codemirror_mode": {
    "name": "ipython",
    "version": 2
   },
   "file_extension": ".py",
   "mimetype": "text/x-python",
   "name": "python",
   "nbconvert_exporter": "python",
   "pygments_lexer": "ipython2",
   "version": "2.7.6"
  },
  "pycharm": {
   "stem_cell": {
    "cell_type": "raw",
    "source": [],
    "metadata": {
     "collapsed": false
    }
   }
  }
 },
 "nbformat": 4,
 "nbformat_minor": 0
}